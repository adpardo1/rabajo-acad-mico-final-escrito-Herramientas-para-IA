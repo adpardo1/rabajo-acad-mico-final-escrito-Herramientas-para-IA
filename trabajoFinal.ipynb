{
 "cells": [
  {
   "cell_type": "code",
   "execution_count": 41,
   "id": "fce3b1f1",
   "metadata": {},
   "outputs": [],
   "source": [
    "# imports \n",
    "import pandas as pd\n",
    "import sqlite3\n",
    "import random\n",
    "from bokeh.plotting import figure, show\n",
    "from bokeh.models import ColumnDataSource, FactorRange\n",
    "from bokeh.io import output_notebook\n",
    "from datetime import datetime"
   ]
  },
  {
   "cell_type": "code",
   "execution_count": 19,
   "id": "e316cfaf",
   "metadata": {},
   "outputs": [
    {
     "data": {
      "text/html": [
       "<div>\n",
       "<style scoped>\n",
       "    .dataframe tbody tr th:only-of-type {\n",
       "        vertical-align: middle;\n",
       "    }\n",
       "\n",
       "    .dataframe tbody tr th {\n",
       "        vertical-align: top;\n",
       "    }\n",
       "\n",
       "    .dataframe thead th {\n",
       "        text-align: right;\n",
       "    }\n",
       "</style>\n",
       "<table border=\"1\" class=\"dataframe\">\n",
       "  <thead>\n",
       "    <tr style=\"text-align: right;\">\n",
       "      <th></th>\n",
       "      <th>Index</th>\n",
       "      <th>Customer Id</th>\n",
       "      <th>First Name</th>\n",
       "      <th>Last Name</th>\n",
       "      <th>Company</th>\n",
       "      <th>City</th>\n",
       "      <th>Country</th>\n",
       "      <th>Phone 1</th>\n",
       "      <th>Phone 2</th>\n",
       "      <th>Email</th>\n",
       "      <th>Subscription Date</th>\n",
       "      <th>Website</th>\n",
       "    </tr>\n",
       "  </thead>\n",
       "  <tbody>\n",
       "    <tr>\n",
       "      <th>0</th>\n",
       "      <td>1</td>\n",
       "      <td>EB54EF1154C3A78</td>\n",
       "      <td>Heather</td>\n",
       "      <td>Callahan</td>\n",
       "      <td>Mosley-David</td>\n",
       "      <td>Lake Jeffborough</td>\n",
       "      <td>Norway</td>\n",
       "      <td>043-797-5229</td>\n",
       "      <td>915.112.1727</td>\n",
       "      <td>urangel@espinoza-francis.net</td>\n",
       "      <td>2020-08-26</td>\n",
       "      <td>http://www.escobar.org/</td>\n",
       "    </tr>\n",
       "    <tr>\n",
       "      <th>1</th>\n",
       "      <td>2</td>\n",
       "      <td>10dAcafEBbA5FcA</td>\n",
       "      <td>Kristina</td>\n",
       "      <td>Ferrell</td>\n",
       "      <td>Horn, Shepard and Watson</td>\n",
       "      <td>Aaronville</td>\n",
       "      <td>Andorra</td>\n",
       "      <td>932-062-1802</td>\n",
       "      <td>(209)172-7124x3651</td>\n",
       "      <td>xreese@hall-donovan.com</td>\n",
       "      <td>2020-04-27</td>\n",
       "      <td>https://tyler-pugh.info/</td>\n",
       "    </tr>\n",
       "    <tr>\n",
       "      <th>2</th>\n",
       "      <td>3</td>\n",
       "      <td>67DAB15Ebe4BE4a</td>\n",
       "      <td>Briana</td>\n",
       "      <td>Andersen</td>\n",
       "      <td>Irwin-Oneal</td>\n",
       "      <td>East Jordan</td>\n",
       "      <td>Nepal</td>\n",
       "      <td>8352752061</td>\n",
       "      <td>(567)135-1918</td>\n",
       "      <td>haleybraun@blevins-sexton.com</td>\n",
       "      <td>2022-03-22</td>\n",
       "      <td>https://www.mack-bell.net/</td>\n",
       "    </tr>\n",
       "    <tr>\n",
       "      <th>3</th>\n",
       "      <td>4</td>\n",
       "      <td>6d350C5E5eDB4EE</td>\n",
       "      <td>Patty</td>\n",
       "      <td>Ponce</td>\n",
       "      <td>Richardson Group</td>\n",
       "      <td>East Kristintown</td>\n",
       "      <td>Northern Mariana Islands</td>\n",
       "      <td>302.398.3833</td>\n",
       "      <td>196-189-7767x770</td>\n",
       "      <td>hohailey@anthony.com</td>\n",
       "      <td>2020-07-02</td>\n",
       "      <td>https://delacruz-freeman.org/</td>\n",
       "    </tr>\n",
       "    <tr>\n",
       "      <th>4</th>\n",
       "      <td>5</td>\n",
       "      <td>5820deAdCF23EFe</td>\n",
       "      <td>Kathleen</td>\n",
       "      <td>Mccormick</td>\n",
       "      <td>Carson-Burch</td>\n",
       "      <td>Andresmouth</td>\n",
       "      <td>Macao</td>\n",
       "      <td>001-184-153-9683x1497</td>\n",
       "      <td>552.051.2979x342</td>\n",
       "      <td>alvaradojesse@rangel-shields.com</td>\n",
       "      <td>2021-01-17</td>\n",
       "      <td>https://welch.info/</td>\n",
       "    </tr>\n",
       "  </tbody>\n",
       "</table>\n",
       "</div>"
      ],
      "text/plain": [
       "   Index      Customer Id First Name  Last Name                   Company  \\\n",
       "0      1  EB54EF1154C3A78    Heather   Callahan              Mosley-David   \n",
       "1      2  10dAcafEBbA5FcA   Kristina    Ferrell  Horn, Shepard and Watson   \n",
       "2      3  67DAB15Ebe4BE4a     Briana   Andersen               Irwin-Oneal   \n",
       "3      4  6d350C5E5eDB4EE      Patty      Ponce          Richardson Group   \n",
       "4      5  5820deAdCF23EFe   Kathleen  Mccormick              Carson-Burch   \n",
       "\n",
       "               City                   Country                Phone 1  \\\n",
       "0  Lake Jeffborough                    Norway           043-797-5229   \n",
       "1        Aaronville                   Andorra           932-062-1802   \n",
       "2       East Jordan                     Nepal             8352752061   \n",
       "3  East Kristintown  Northern Mariana Islands           302.398.3833   \n",
       "4       Andresmouth                     Macao  001-184-153-9683x1497   \n",
       "\n",
       "              Phone 2                             Email Subscription Date  \\\n",
       "0        915.112.1727      urangel@espinoza-francis.net        2020-08-26   \n",
       "1  (209)172-7124x3651           xreese@hall-donovan.com        2020-04-27   \n",
       "2       (567)135-1918     haleybraun@blevins-sexton.com        2022-03-22   \n",
       "3    196-189-7767x770              hohailey@anthony.com        2020-07-02   \n",
       "4    552.051.2979x342  alvaradojesse@rangel-shields.com        2021-01-17   \n",
       "\n",
       "                         Website  \n",
       "0        http://www.escobar.org/  \n",
       "1       https://tyler-pugh.info/  \n",
       "2     https://www.mack-bell.net/  \n",
       "3  https://delacruz-freeman.org/  \n",
       "4            https://welch.info/  "
      ]
     },
     "execution_count": 19,
     "metadata": {},
     "output_type": "execute_result"
    }
   ],
   "source": [
    "\n",
    "\n",
    "# Cargar el CSV de clientes\n",
    "customers_df = pd.read_csv(\"data/customers-10000.csv\")\n",
    "customers_df.head()\n"
   ]
  },
  {
   "cell_type": "code",
   "execution_count": 25,
   "id": "7fd98723",
   "metadata": {},
   "outputs": [],
   "source": [
    "#Carga de la base de datos\n",
    "conn = sqlite3.connect(\"base/bank.db\") \n",
    "bt_df = pd.read_csv(\"base/10000 BT Records.csv\") \n",
    "\n",
    "bt_df.to_sql(\"bt_records\", conn, if_exists=\"replace\", index=False)\n",
    "conn.commit()\n"
   ]
  },
  {
   "cell_type": "code",
   "execution_count": 26,
   "id": "c05c4d89",
   "metadata": {},
   "outputs": [
    {
     "name": "stdout",
     "output_type": "stream",
     "text": [
      "          Date Description   Deposits Withdrawls     Balance      Customer Id\n",
      "0  20-Aug-2020        Cash  97,540.00      00.00  170,542.01  Fbd8FAaD2ccC03F\n",
      "1  20-Aug-2020  Commission      00.00  34,108.40  136,433.61  ad72E2c53510Aed\n",
      "2  20-Aug-2020         ATM      41.00      00.00  136,474.61  59aa3f2dabdf86f\n",
      "3  20-Aug-2020    Interest      50.00      00.00  136,524.61  b1BabAFCce090F5\n",
      "4  20-Aug-2020  Commission      00.00  34,131.15  102,393.46  bE13C300faDAE19\n"
     ]
    },
    {
     "data": {
      "text/plain": [
       "10000"
      ]
     },
     "execution_count": 26,
     "metadata": {},
     "output_type": "execute_result"
    }
   ],
   "source": [
    "# Agregar la variable customers id del csv en la db para poder tener una relacion entre ambos datasets\n",
    "customer_ids = customers_df['Customer Id'].tolist()\n",
    "\n",
    "# Asignar aleatoriamente un Customer Id a cada fila de bt_df\n",
    "bt_df['Customer Id'] = [random.choice(customer_ids) for _ in range(len(bt_df))]\n",
    "\n",
    "# Opcional: verificar las primeras filas con la nueva columna\n",
    "print(bt_df.head())\n",
    "\n",
    "# Guardar la tabla actualizada en la base de datos (sobrescribir)\n",
    "bt_df.to_sql(\"bt_records\", conn, if_exists=\"replace\", index=False)\n",
    "\n"
   ]
  },
  {
   "cell_type": "code",
   "execution_count": 27,
   "id": "3d17c20e",
   "metadata": {},
   "outputs": [
    {
     "name": "stdout",
     "output_type": "stream",
     "text": [
      "          Date Description   Deposits Withdrawls     Balance      Customer Id  \\\n",
      "0  20-Aug-2020        Cash  97,540.00      00.00  170,542.01  Fbd8FAaD2ccC03F   \n",
      "1  20-Aug-2020  Commission      00.00  34,108.40  136,433.61  ad72E2c53510Aed   \n",
      "2  20-Aug-2020         ATM      41.00      00.00  136,474.61  59aa3f2dabdf86f   \n",
      "3  20-Aug-2020    Interest      50.00      00.00  136,524.61  b1BabAFCce090F5   \n",
      "4  20-Aug-2020  Commission      00.00  34,131.15  102,393.46  bE13C300faDAE19   \n",
      "\n",
      "   Index First Name Last Name                     Company            City  \\\n",
      "0    677     Dillon      Soto  Avery, Torres and Arellano       Davidberg   \n",
      "1   8171    Douglas   Bennett              Hatfield Group      Devonmouth   \n",
      "2   9230   Virginia      Haas                 Fleming Ltd     Rebekahport   \n",
      "3   9791  Alejandro   Cameron              Richardson Ltd      Louisburgh   \n",
      "4   7864   Jonathan    Atkins                Zuniga-Lynch  New Jeromeport   \n",
      "\n",
      "         Country             Phone 1               Phone 2  \\\n",
      "0  Cote d'Ivoire     +1-799-961-3002  +1-035-693-9215x7273   \n",
      "1      Mauritius          3783301320   +1-561-310-2412x632   \n",
      "2        Bahamas    001-094-405-1821  +1-436-914-2970x9592   \n",
      "3        Senegal  426.235.9969x94451    (317)642-6419x2108   \n",
      "4     Seychelles       (070)902-6164     (832)818-1234x902   \n",
      "\n",
      "                            Email Subscription Date                    Website  \n",
      "0               diane91@rocha.net        2021-09-22  http://www.mccormick.com/  \n",
      "1     ericamorales@ball-arias.com        2021-11-15       https://www.ray.com/  \n",
      "2           devonduke@church.info        2020-10-20        http://bennett.com/  \n",
      "3               alan20@willis.org        2021-02-12  https://www.gallegos.com/  \n",
      "4  alicevelasquez@pena-parker.biz        2020-01-09      http://www.boyle.com/  \n"
     ]
    }
   ],
   "source": [
    "merged_df = pd.merge(bt_df, customers_df, on='Customer Id', how='left')\n",
    "\n",
    "print(merged_df.head())\n",
    "\n",
    "merged_df.to_csv(\"data/merged_dataset.csv\", index=False)"
   ]
  },
  {
   "cell_type": "markdown",
   "id": "174f3fe1",
   "metadata": {},
   "source": [
    "# GRAFICAS INTERACTIVAS CON BOKEH"
   ]
  },
  {
   "cell_type": "markdown",
   "id": "3489495f",
   "metadata": {},
   "source": [
    "### Grafica por mes para depósitos y retiros"
   ]
  },
  {
   "cell_type": "code",
   "execution_count": 44,
   "id": "8aede69b",
   "metadata": {},
   "outputs": [
    {
     "name": "stderr",
     "output_type": "stream",
     "text": [
      "<>:4: SyntaxWarning: invalid escape sequence '\\$'\n",
      "<>:5: SyntaxWarning: invalid escape sequence '\\$'\n",
      "<>:4: SyntaxWarning: invalid escape sequence '\\$'\n",
      "<>:5: SyntaxWarning: invalid escape sequence '\\$'\n",
      "C:\\Users\\adpar\\AppData\\Local\\Temp\\ipykernel_16896\\3565448367.py:4: SyntaxWarning: invalid escape sequence '\\$'\n",
      "  merged_df['Deposits'] = merged_df['Deposits'].replace('[\\$,]', '', regex=True).astype(float)\n",
      "C:\\Users\\adpar\\AppData\\Local\\Temp\\ipykernel_16896\\3565448367.py:5: SyntaxWarning: invalid escape sequence '\\$'\n",
      "  merged_df['Withdrawls'] = merged_df['Withdrawls'].replace('[\\$,]', '', regex=True).astype(float)\n"
     ]
    },
    {
     "data": {
      "text/html": [
       "\n",
       "  <div id=\"bc7e2cfc-f5df-4093-b311-634e5a0793b7\" data-root-id=\"p1264\" style=\"display: contents;\"></div>\n"
      ]
     },
     "metadata": {},
     "output_type": "display_data"
    },
    {
     "data": {
      "application/javascript": "(function(root) {\n  function embed_document(root) {\n  const docs_json = {\"ad714ee1-5499-4785-a66d-e9383c43fbb6\":{\"version\":\"3.7.3\",\"title\":\"Bokeh Application\",\"roots\":[{\"type\":\"object\",\"name\":\"Figure\",\"id\":\"p1264\",\"attributes\":{\"width\":900,\"height\":400,\"x_range\":{\"type\":\"object\",\"name\":\"FactorRange\",\"id\":\"p1263\",\"attributes\":{\"factors\":[[\"2020-08\",\"Dep\\u00f3sitos\"],[\"2020-08\",\"Retiros\"],[\"2020-09\",\"Dep\\u00f3sitos\"],[\"2020-09\",\"Retiros\"],[\"2020-10\",\"Dep\\u00f3sitos\"],[\"2020-10\",\"Retiros\"],[\"2020-11\",\"Dep\\u00f3sitos\"],[\"2020-11\",\"Retiros\"],[\"2020-12\",\"Dep\\u00f3sitos\"],[\"2020-12\",\"Retiros\"],[\"2021-01\",\"Dep\\u00f3sitos\"],[\"2021-01\",\"Retiros\"],[\"2021-02\",\"Dep\\u00f3sitos\"],[\"2021-02\",\"Retiros\"],[\"2021-03\",\"Dep\\u00f3sitos\"],[\"2021-03\",\"Retiros\"],[\"2021-04\",\"Dep\\u00f3sitos\"],[\"2021-04\",\"Retiros\"],[\"2021-05\",\"Dep\\u00f3sitos\"],[\"2021-05\",\"Retiros\"],[\"2021-06\",\"Dep\\u00f3sitos\"],[\"2021-06\",\"Retiros\"],[\"2021-07\",\"Dep\\u00f3sitos\"],[\"2021-07\",\"Retiros\"],[\"2021-08\",\"Dep\\u00f3sitos\"],[\"2021-08\",\"Retiros\"],[\"2021-09\",\"Dep\\u00f3sitos\"],[\"2021-09\",\"Retiros\"]]}},\"y_range\":{\"type\":\"object\",\"name\":\"DataRange1d\",\"id\":\"p1266\"},\"x_scale\":{\"type\":\"object\",\"name\":\"CategoricalScale\",\"id\":\"p1274\"},\"y_scale\":{\"type\":\"object\",\"name\":\"LinearScale\",\"id\":\"p1275\"},\"title\":{\"type\":\"object\",\"name\":\"Title\",\"id\":\"p1267\",\"attributes\":{\"text\":\"Dep\\u00f3sitos y Retiros Totales por Mes\"}},\"renderers\":[{\"type\":\"object\",\"name\":\"GlyphRenderer\",\"id\":\"p1305\",\"attributes\":{\"data_source\":{\"type\":\"object\",\"name\":\"ColumnDataSource\",\"id\":\"p1260\",\"attributes\":{\"selected\":{\"type\":\"object\",\"name\":\"Selection\",\"id\":\"p1261\",\"attributes\":{\"indices\":[],\"line_indices\":[]}},\"selection_policy\":{\"type\":\"object\",\"name\":\"UnionRenderers\",\"id\":\"p1262\"},\"data\":{\"type\":\"map\",\"entries\":[[\"x\",[[\"2020-08\",\"Dep\\u00f3sitos\"],[\"2020-08\",\"Retiros\"],[\"2020-09\",\"Dep\\u00f3sitos\"],[\"2020-09\",\"Retiros\"],[\"2020-10\",\"Dep\\u00f3sitos\"],[\"2020-10\",\"Retiros\"],[\"2020-11\",\"Dep\\u00f3sitos\"],[\"2020-11\",\"Retiros\"],[\"2020-12\",\"Dep\\u00f3sitos\"],[\"2020-12\",\"Retiros\"],[\"2021-01\",\"Dep\\u00f3sitos\"],[\"2021-01\",\"Retiros\"],[\"2021-02\",\"Dep\\u00f3sitos\"],[\"2021-02\",\"Retiros\"],[\"2021-03\",\"Dep\\u00f3sitos\"],[\"2021-03\",\"Retiros\"],[\"2021-04\",\"Dep\\u00f3sitos\"],[\"2021-04\",\"Retiros\"],[\"2021-05\",\"Dep\\u00f3sitos\"],[\"2021-05\",\"Retiros\"],[\"2021-06\",\"Dep\\u00f3sitos\"],[\"2021-06\",\"Retiros\"],[\"2021-07\",\"Dep\\u00f3sitos\"],[\"2021-07\",\"Retiros\"],[\"2021-08\",\"Dep\\u00f3sitos\"],[\"2021-08\",\"Retiros\"],[\"2021-09\",\"Dep\\u00f3sitos\"],[\"2021-09\",\"Retiros\"]]],[\"top\",[20174007.86,20026775.45,89390566.12,89610257.3,82483172.79,80717942.64,46182942.89,46796401.17,98615984.1,99512164.39,64854988.08,64437167.14,45791851.12,45522960.2,87349991.9,88265727.51,53056325.75,53083232.83,57558758.14,57006661.72,46451144.72,44151968.089999996,67024799.16,69480189.26,94795376.41,93305934.63,8731377.87,10300815.44]],[\"color\",[\"green\",\"red\",\"green\",\"red\",\"green\",\"red\",\"green\",\"red\",\"green\",\"red\",\"green\",\"red\",\"green\",\"red\",\"green\",\"red\",\"green\",\"red\",\"green\",\"red\",\"green\",\"red\",\"green\",\"red\",\"green\",\"red\",\"green\",\"red\"]]]}}},\"view\":{\"type\":\"object\",\"name\":\"CDSView\",\"id\":\"p1306\",\"attributes\":{\"filter\":{\"type\":\"object\",\"name\":\"AllIndices\",\"id\":\"p1307\"}}},\"glyph\":{\"type\":\"object\",\"name\":\"VBar\",\"id\":\"p1302\",\"attributes\":{\"x\":{\"type\":\"field\",\"field\":\"x\"},\"width\":{\"type\":\"value\",\"value\":0.8},\"top\":{\"type\":\"field\",\"field\":\"top\"},\"line_color\":{\"type\":\"value\",\"value\":\"#1f77b4\"},\"fill_color\":{\"type\":\"field\",\"field\":\"color\"}}},\"nonselection_glyph\":{\"type\":\"object\",\"name\":\"VBar\",\"id\":\"p1303\",\"attributes\":{\"x\":{\"type\":\"field\",\"field\":\"x\"},\"width\":{\"type\":\"value\",\"value\":0.8},\"top\":{\"type\":\"field\",\"field\":\"top\"},\"line_color\":{\"type\":\"value\",\"value\":\"#1f77b4\"},\"line_alpha\":{\"type\":\"value\",\"value\":0.1},\"fill_color\":{\"type\":\"field\",\"field\":\"color\"},\"fill_alpha\":{\"type\":\"value\",\"value\":0.1},\"hatch_alpha\":{\"type\":\"value\",\"value\":0.1}}},\"muted_glyph\":{\"type\":\"object\",\"name\":\"VBar\",\"id\":\"p1304\",\"attributes\":{\"x\":{\"type\":\"field\",\"field\":\"x\"},\"width\":{\"type\":\"value\",\"value\":0.8},\"top\":{\"type\":\"field\",\"field\":\"top\"},\"line_color\":{\"type\":\"value\",\"value\":\"#1f77b4\"},\"line_alpha\":{\"type\":\"value\",\"value\":0.2},\"fill_color\":{\"type\":\"field\",\"field\":\"color\"},\"fill_alpha\":{\"type\":\"value\",\"value\":0.2},\"hatch_alpha\":{\"type\":\"value\",\"value\":0.2}}}}}],\"toolbar\":{\"type\":\"object\",\"name\":\"Toolbar\",\"id\":\"p1273\",\"attributes\":{\"tools\":[{\"type\":\"object\",\"name\":\"PanTool\",\"id\":\"p1286\"},{\"type\":\"object\",\"name\":\"WheelZoomTool\",\"id\":\"p1287\",\"attributes\":{\"renderers\":\"auto\"}},{\"type\":\"object\",\"name\":\"BoxZoomTool\",\"id\":\"p1288\",\"attributes\":{\"dimensions\":\"both\",\"overlay\":{\"type\":\"object\",\"name\":\"BoxAnnotation\",\"id\":\"p1289\",\"attributes\":{\"syncable\":false,\"line_color\":\"black\",\"line_alpha\":1.0,\"line_width\":2,\"line_dash\":[4,4],\"fill_color\":\"lightgrey\",\"fill_alpha\":0.5,\"level\":\"overlay\",\"visible\":false,\"left\":{\"type\":\"number\",\"value\":\"nan\"},\"right\":{\"type\":\"number\",\"value\":\"nan\"},\"top\":{\"type\":\"number\",\"value\":\"nan\"},\"bottom\":{\"type\":\"number\",\"value\":\"nan\"},\"left_units\":\"canvas\",\"right_units\":\"canvas\",\"top_units\":\"canvas\",\"bottom_units\":\"canvas\",\"handles\":{\"type\":\"object\",\"name\":\"BoxInteractionHandles\",\"id\":\"p1295\",\"attributes\":{\"all\":{\"type\":\"object\",\"name\":\"AreaVisuals\",\"id\":\"p1294\",\"attributes\":{\"fill_color\":\"white\",\"hover_fill_color\":\"lightgray\"}}}}}}}},{\"type\":\"object\",\"name\":\"SaveTool\",\"id\":\"p1296\"},{\"type\":\"object\",\"name\":\"ResetTool\",\"id\":\"p1297\"},{\"type\":\"object\",\"name\":\"HelpTool\",\"id\":\"p1298\"}]}},\"toolbar_location\":null,\"left\":[{\"type\":\"object\",\"name\":\"LinearAxis\",\"id\":\"p1281\",\"attributes\":{\"ticker\":{\"type\":\"object\",\"name\":\"BasicTicker\",\"id\":\"p1282\",\"attributes\":{\"mantissas\":[1,2,5]}},\"formatter\":{\"type\":\"object\",\"name\":\"BasicTickFormatter\",\"id\":\"p1283\"},\"axis_label\":\"Monto (USD)\",\"major_label_policy\":{\"type\":\"object\",\"name\":\"AllLabels\",\"id\":\"p1284\"}}}],\"below\":[{\"type\":\"object\",\"name\":\"CategoricalAxis\",\"id\":\"p1276\",\"attributes\":{\"ticker\":{\"type\":\"object\",\"name\":\"CategoricalTicker\",\"id\":\"p1277\"},\"formatter\":{\"type\":\"object\",\"name\":\"CategoricalTickFormatter\",\"id\":\"p1278\"},\"axis_label\":\"Mes y Tipo\",\"major_label_orientation\":1.2,\"major_label_policy\":{\"type\":\"object\",\"name\":\"AllLabels\",\"id\":\"p1279\"}}}],\"center\":[{\"type\":\"object\",\"name\":\"Grid\",\"id\":\"p1280\",\"attributes\":{\"axis\":{\"id\":\"p1276\"}}},{\"type\":\"object\",\"name\":\"Grid\",\"id\":\"p1285\",\"attributes\":{\"dimension\":1,\"axis\":{\"id\":\"p1281\"}}}]}}]}};\n  const render_items = [{\"docid\":\"ad714ee1-5499-4785-a66d-e9383c43fbb6\",\"roots\":{\"p1264\":\"bc7e2cfc-f5df-4093-b311-634e5a0793b7\"},\"root_ids\":[\"p1264\"]}];\n  void root.Bokeh.embed.embed_items_notebook(docs_json, render_items);\n  }\n  if (root.Bokeh !== undefined) {\n    embed_document(root);\n  } else {\n    let attempts = 0;\n    const timer = setInterval(function(root) {\n      if (root.Bokeh !== undefined) {\n        clearInterval(timer);\n        embed_document(root);\n      } else {\n        attempts++;\n        if (attempts > 100) {\n          clearInterval(timer);\n          console.log(\"Bokeh: ERROR: Unable to run BokehJS code because BokehJS library is missing\");\n        }\n      }\n    }, 10, root)\n  }\n})(window);",
      "application/vnd.bokehjs_exec.v0+json": ""
     },
     "metadata": {
      "application/vnd.bokehjs_exec.v0+json": {
       "id": "p1264"
      }
     },
     "output_type": "display_data"
    }
   ],
   "source": [
    "\n",
    "merged_df['Date'] = pd.to_datetime(merged_df['Date'], format='%d-%b-%Y', errors='coerce')\n",
    "\n",
    "# 3. Corregir columnas numéricas (quitar comas, convertir a float)\n",
    "merged_df['Deposits'] = merged_df['Deposits'].replace('[\\$,]', '', regex=True).astype(float)\n",
    "merged_df['Withdrawls'] = merged_df['Withdrawls'].replace('[\\$,]', '', regex=True).astype(float)\n",
    "\n",
    "# 4. Crear columna 'Mes' en formato año-mes\n",
    "merged_df['Mes'] = merged_df['Date'].dt.strftime('%Y-%m')\n",
    "\n",
    "# 5. Agrupar por mes y sumar depósitos y retiros\n",
    "resumen = merged_df.groupby('Mes').agg({'Deposits': 'sum', 'Withdrawls': 'sum'}).reset_index()\n",
    "\n",
    "# 6. Preparar datos para la gráfica\n",
    "x = []\n",
    "top = []\n",
    "colores = []\n",
    "\n",
    "for _, fila in resumen.iterrows():\n",
    "    mes = fila['Mes']\n",
    "    x.append((mes, 'Depósitos'))\n",
    "    top.append(fila['Deposits'])\n",
    "    colores.append('green')\n",
    "    x.append((mes, 'Retiros'))\n",
    "    top.append(fila['Withdrawls'])\n",
    "    colores.append('red')\n",
    "\n",
    "# 7. Crear data source para Bokeh\n",
    "source = ColumnDataSource(data=dict(x=x, top=top, color=colores))\n",
    "\n",
    "# 8. Graficar con Bokeh\n",
    "p = figure(x_range=FactorRange(*x), \n",
    "           title=\"Depósitos y Retiros Totales por Mes\",\n",
    "           x_axis_label='Mes y Tipo', y_axis_label='Monto (USD)',\n",
    "           height=400, width=900, toolbar_location=None)\n",
    "\n",
    "p.vbar(x='x', top='top', width=0.8, source=source, fill_color='color')\n",
    "p.xaxis.major_label_orientation = 1.2\n",
    "\n",
    "show(p)"
   ]
  },
  {
   "cell_type": "markdown",
   "id": "068e9b9c",
   "metadata": {},
   "source": [
    "### Top 10 clientes con más depósitos o retiros acumulados"
   ]
  },
  {
   "cell_type": "code",
   "execution_count": 45,
   "id": "59005d73",
   "metadata": {},
   "outputs": [
    {
     "data": {
      "text/html": [
       "\n",
       "  <div id=\"ba659560-7b83-49c5-9a41-0c3ebbef7d49\" data-root-id=\"p1312\" style=\"display: contents;\"></div>\n"
      ]
     },
     "metadata": {},
     "output_type": "display_data"
    },
    {
     "data": {
      "application/javascript": "(function(root) {\n  function embed_document(root) {\n  const docs_json = {\"b850f74c-c5ac-405e-9848-2e882ed62a19\":{\"version\":\"3.7.3\",\"title\":\"Bokeh Application\",\"roots\":[{\"type\":\"object\",\"name\":\"Figure\",\"id\":\"p1312\",\"attributes\":{\"width\":1000,\"height\":400,\"x_range\":{\"type\":\"object\",\"name\":\"FactorRange\",\"id\":\"p1311\",\"attributes\":{\"factors\":[[\"Earl Wells\",\"Dep\\u00f3sitos\"],[\"Earl Wells\",\"Retiros\"],[\"Ann Mora\",\"Dep\\u00f3sitos\"],[\"Ann Mora\",\"Retiros\"],[\"Donald Key\",\"Dep\\u00f3sitos\"],[\"Donald Key\",\"Retiros\"],[\"Deanna Waters\",\"Dep\\u00f3sitos\"],[\"Deanna Waters\",\"Retiros\"],[\"Roberto Morse\",\"Dep\\u00f3sitos\"],[\"Roberto Morse\",\"Retiros\"],[\"Allison Powell\",\"Dep\\u00f3sitos\"],[\"Allison Powell\",\"Retiros\"],[\"Monica Steele\",\"Dep\\u00f3sitos\"],[\"Monica Steele\",\"Retiros\"],[\"Javier Pugh\",\"Dep\\u00f3sitos\"],[\"Javier Pugh\",\"Retiros\"],[\"Tamara Terrell\",\"Dep\\u00f3sitos\"],[\"Tamara Terrell\",\"Retiros\"],[\"Omar Holder\",\"Dep\\u00f3sitos\"],[\"Omar Holder\",\"Retiros\"]]}},\"y_range\":{\"type\":\"object\",\"name\":\"DataRange1d\",\"id\":\"p1314\"},\"x_scale\":{\"type\":\"object\",\"name\":\"CategoricalScale\",\"id\":\"p1322\"},\"y_scale\":{\"type\":\"object\",\"name\":\"LinearScale\",\"id\":\"p1323\"},\"title\":{\"type\":\"object\",\"name\":\"Title\",\"id\":\"p1315\",\"attributes\":{\"text\":\"Top 10 Clientes con m\\u00e1s Dep\\u00f3sitos y Retiros\"}},\"renderers\":[{\"type\":\"object\",\"name\":\"GlyphRenderer\",\"id\":\"p1353\",\"attributes\":{\"data_source\":{\"type\":\"object\",\"name\":\"ColumnDataSource\",\"id\":\"p1308\",\"attributes\":{\"selected\":{\"type\":\"object\",\"name\":\"Selection\",\"id\":\"p1309\",\"attributes\":{\"indices\":[],\"line_indices\":[]}},\"selection_policy\":{\"type\":\"object\",\"name\":\"UnionRenderers\",\"id\":\"p1310\"},\"data\":{\"type\":\"map\",\"entries\":[[\"x\",[[\"Earl Wells\",\"Dep\\u00f3sitos\"],[\"Earl Wells\",\"Retiros\"],[\"Ann Mora\",\"Dep\\u00f3sitos\"],[\"Ann Mora\",\"Retiros\"],[\"Donald Key\",\"Dep\\u00f3sitos\"],[\"Donald Key\",\"Retiros\"],[\"Deanna Waters\",\"Dep\\u00f3sitos\"],[\"Deanna Waters\",\"Retiros\"],[\"Roberto Morse\",\"Dep\\u00f3sitos\"],[\"Roberto Morse\",\"Retiros\"],[\"Allison Powell\",\"Dep\\u00f3sitos\"],[\"Allison Powell\",\"Retiros\"],[\"Monica Steele\",\"Dep\\u00f3sitos\"],[\"Monica Steele\",\"Retiros\"],[\"Javier Pugh\",\"Dep\\u00f3sitos\"],[\"Javier Pugh\",\"Retiros\"],[\"Tamara Terrell\",\"Dep\\u00f3sitos\"],[\"Tamara Terrell\",\"Retiros\"],[\"Omar Holder\",\"Dep\\u00f3sitos\"],[\"Omar Holder\",\"Retiros\"]]],[\"top\",[3871819.0,0.0,3670675.8,0.0,3236567.75,0.0,3217081.0,2512.61,2966854.5,0.0,2860636.61,0.0,2798502.05,559431.02,2585456.8,0.0,2555488.45,0.0,2433586.75,837.2]],[\"color\",[\"green\",\"red\",\"green\",\"red\",\"green\",\"red\",\"green\",\"red\",\"green\",\"red\",\"green\",\"red\",\"green\",\"red\",\"green\",\"red\",\"green\",\"red\",\"green\",\"red\"]]]}}},\"view\":{\"type\":\"object\",\"name\":\"CDSView\",\"id\":\"p1354\",\"attributes\":{\"filter\":{\"type\":\"object\",\"name\":\"AllIndices\",\"id\":\"p1355\"}}},\"glyph\":{\"type\":\"object\",\"name\":\"VBar\",\"id\":\"p1350\",\"attributes\":{\"x\":{\"type\":\"field\",\"field\":\"x\"},\"width\":{\"type\":\"value\",\"value\":0.8},\"top\":{\"type\":\"field\",\"field\":\"top\"},\"line_color\":{\"type\":\"value\",\"value\":\"#1f77b4\"},\"fill_color\":{\"type\":\"field\",\"field\":\"color\"}}},\"nonselection_glyph\":{\"type\":\"object\",\"name\":\"VBar\",\"id\":\"p1351\",\"attributes\":{\"x\":{\"type\":\"field\",\"field\":\"x\"},\"width\":{\"type\":\"value\",\"value\":0.8},\"top\":{\"type\":\"field\",\"field\":\"top\"},\"line_color\":{\"type\":\"value\",\"value\":\"#1f77b4\"},\"line_alpha\":{\"type\":\"value\",\"value\":0.1},\"fill_color\":{\"type\":\"field\",\"field\":\"color\"},\"fill_alpha\":{\"type\":\"value\",\"value\":0.1},\"hatch_alpha\":{\"type\":\"value\",\"value\":0.1}}},\"muted_glyph\":{\"type\":\"object\",\"name\":\"VBar\",\"id\":\"p1352\",\"attributes\":{\"x\":{\"type\":\"field\",\"field\":\"x\"},\"width\":{\"type\":\"value\",\"value\":0.8},\"top\":{\"type\":\"field\",\"field\":\"top\"},\"line_color\":{\"type\":\"value\",\"value\":\"#1f77b4\"},\"line_alpha\":{\"type\":\"value\",\"value\":0.2},\"fill_color\":{\"type\":\"field\",\"field\":\"color\"},\"fill_alpha\":{\"type\":\"value\",\"value\":0.2},\"hatch_alpha\":{\"type\":\"value\",\"value\":0.2}}}}}],\"toolbar\":{\"type\":\"object\",\"name\":\"Toolbar\",\"id\":\"p1321\",\"attributes\":{\"tools\":[{\"type\":\"object\",\"name\":\"PanTool\",\"id\":\"p1334\"},{\"type\":\"object\",\"name\":\"WheelZoomTool\",\"id\":\"p1335\",\"attributes\":{\"renderers\":\"auto\"}},{\"type\":\"object\",\"name\":\"BoxZoomTool\",\"id\":\"p1336\",\"attributes\":{\"dimensions\":\"both\",\"overlay\":{\"type\":\"object\",\"name\":\"BoxAnnotation\",\"id\":\"p1337\",\"attributes\":{\"syncable\":false,\"line_color\":\"black\",\"line_alpha\":1.0,\"line_width\":2,\"line_dash\":[4,4],\"fill_color\":\"lightgrey\",\"fill_alpha\":0.5,\"level\":\"overlay\",\"visible\":false,\"left\":{\"type\":\"number\",\"value\":\"nan\"},\"right\":{\"type\":\"number\",\"value\":\"nan\"},\"top\":{\"type\":\"number\",\"value\":\"nan\"},\"bottom\":{\"type\":\"number\",\"value\":\"nan\"},\"left_units\":\"canvas\",\"right_units\":\"canvas\",\"top_units\":\"canvas\",\"bottom_units\":\"canvas\",\"handles\":{\"type\":\"object\",\"name\":\"BoxInteractionHandles\",\"id\":\"p1343\",\"attributes\":{\"all\":{\"type\":\"object\",\"name\":\"AreaVisuals\",\"id\":\"p1342\",\"attributes\":{\"fill_color\":\"white\",\"hover_fill_color\":\"lightgray\"}}}}}}}},{\"type\":\"object\",\"name\":\"SaveTool\",\"id\":\"p1344\"},{\"type\":\"object\",\"name\":\"ResetTool\",\"id\":\"p1345\"},{\"type\":\"object\",\"name\":\"HelpTool\",\"id\":\"p1346\"}]}},\"toolbar_location\":null,\"left\":[{\"type\":\"object\",\"name\":\"LinearAxis\",\"id\":\"p1329\",\"attributes\":{\"ticker\":{\"type\":\"object\",\"name\":\"BasicTicker\",\"id\":\"p1330\",\"attributes\":{\"mantissas\":[1,2,5]}},\"formatter\":{\"type\":\"object\",\"name\":\"BasicTickFormatter\",\"id\":\"p1331\"},\"axis_label\":\"Monto (USD)\",\"major_label_policy\":{\"type\":\"object\",\"name\":\"AllLabels\",\"id\":\"p1332\"}}}],\"below\":[{\"type\":\"object\",\"name\":\"CategoricalAxis\",\"id\":\"p1324\",\"attributes\":{\"ticker\":{\"type\":\"object\",\"name\":\"CategoricalTicker\",\"id\":\"p1325\"},\"formatter\":{\"type\":\"object\",\"name\":\"CategoricalTickFormatter\",\"id\":\"p1326\"},\"axis_label\":\"Cliente\",\"major_label_orientation\":1.2,\"major_label_policy\":{\"type\":\"object\",\"name\":\"AllLabels\",\"id\":\"p1327\"}}}],\"center\":[{\"type\":\"object\",\"name\":\"Grid\",\"id\":\"p1328\",\"attributes\":{\"axis\":{\"id\":\"p1324\"}}},{\"type\":\"object\",\"name\":\"Grid\",\"id\":\"p1333\",\"attributes\":{\"dimension\":1,\"axis\":{\"id\":\"p1329\"}}}]}}]}};\n  const render_items = [{\"docid\":\"b850f74c-c5ac-405e-9848-2e882ed62a19\",\"roots\":{\"p1312\":\"ba659560-7b83-49c5-9a41-0c3ebbef7d49\"},\"root_ids\":[\"p1312\"]}];\n  void root.Bokeh.embed.embed_items_notebook(docs_json, render_items);\n  }\n  if (root.Bokeh !== undefined) {\n    embed_document(root);\n  } else {\n    let attempts = 0;\n    const timer = setInterval(function(root) {\n      if (root.Bokeh !== undefined) {\n        clearInterval(timer);\n        embed_document(root);\n      } else {\n        attempts++;\n        if (attempts > 100) {\n          clearInterval(timer);\n          console.log(\"Bokeh: ERROR: Unable to run BokehJS code because BokehJS library is missing\");\n        }\n      }\n    }, 10, root)\n  }\n})(window);",
      "application/vnd.bokehjs_exec.v0+json": ""
     },
     "metadata": {
      "application/vnd.bokehjs_exec.v0+json": {
       "id": "p1312"
      }
     },
     "output_type": "display_data"
    }
   ],
   "source": [
    "top_clientes = merged_df.groupby(['Customer Id', 'First Name', 'Last Name']).agg({\n",
    "    'Deposits': 'sum',\n",
    "    'Withdrawls': 'sum'\n",
    "}).reset_index()\n",
    "\n",
    "top_clientes['Total Movimientos'] = top_clientes['Deposits'] + top_clientes['Withdrawls']\n",
    "\n",
    "top10 = top_clientes.sort_values(by='Deposits', ascending=False).head(10)\n",
    "\n",
    "top10['Cliente'] = top10['First Name'] + ' ' + top10['Last Name']\n",
    "\n",
    "x = []\n",
    "top = []\n",
    "colores = []\n",
    "\n",
    "for _, fila in top10.iterrows():\n",
    "    cliente = fila['Cliente']\n",
    "    x.append((cliente, 'Depósitos'))\n",
    "    top.append(fila['Deposits'])\n",
    "    colores.append('green')\n",
    "    x.append((cliente, 'Retiros'))\n",
    "    top.append(fila['Withdrawls'])\n",
    "    colores.append('red')\n",
    "\n",
    "source = ColumnDataSource(data=dict(x=x, top=top, color=colores))\n",
    "\n",
    "p1 = figure(x_range=FactorRange(*x), \n",
    "           title=\"Top 10 Clientes con más Depósitos y Retiros\",\n",
    "           x_axis_label='Cliente', y_axis_label='Monto (USD)',\n",
    "           height=400, width=1000, toolbar_location=None)\n",
    "\n",
    "p1.vbar(x='x', top='top', width=0.8, source=source, fill_color='color')\n",
    "p1.xaxis.major_label_orientation = 1.2\n",
    "\n",
    "show(p1)\n"
   ]
  },
  {
   "cell_type": "markdown",
   "id": "5d8476ae",
   "metadata": {},
   "source": [
    "### Distribución de Depósitos y Retiros por País"
   ]
  },
  {
   "cell_type": "code",
   "execution_count": 46,
   "id": "a7a93a78",
   "metadata": {},
   "outputs": [
    {
     "data": {
      "text/html": [
       "\n",
       "  <div id=\"b0bf16c3-8336-4fce-88c2-ea744f80b1d3\" data-root-id=\"p1360\" style=\"display: contents;\"></div>\n"
      ]
     },
     "metadata": {},
     "output_type": "display_data"
    },
    {
     "data": {
      "application/javascript": "(function(root) {\n  function embed_document(root) {\n  const docs_json = {\"3b4440ba-4a3b-4f42-b102-71d8d56f0a92\":{\"version\":\"3.7.3\",\"title\":\"Bokeh Application\",\"roots\":[{\"type\":\"object\",\"name\":\"Figure\",\"id\":\"p1360\",\"attributes\":{\"width\":1000,\"height\":400,\"x_range\":{\"type\":\"object\",\"name\":\"FactorRange\",\"id\":\"p1359\",\"attributes\":{\"factors\":[[\"Somalia\",\"Dep\\u00f3sitos\"],[\"Somalia\",\"Retiros\"],[\"Ethiopia\",\"Dep\\u00f3sitos\"],[\"Ethiopia\",\"Retiros\"],[\"French Guiana\",\"Dep\\u00f3sitos\"],[\"French Guiana\",\"Retiros\"],[\"Belarus\",\"Dep\\u00f3sitos\"],[\"Belarus\",\"Retiros\"],[\"Madagascar\",\"Dep\\u00f3sitos\"],[\"Madagascar\",\"Retiros\"],[\"Hungary\",\"Dep\\u00f3sitos\"],[\"Hungary\",\"Retiros\"],[\"Congo\",\"Dep\\u00f3sitos\"],[\"Congo\",\"Retiros\"],[\"Mali\",\"Dep\\u00f3sitos\"],[\"Mali\",\"Retiros\"],[\"Botswana\",\"Dep\\u00f3sitos\"],[\"Botswana\",\"Retiros\"],[\"Sierra Leone\",\"Dep\\u00f3sitos\"],[\"Sierra Leone\",\"Retiros\"]]}},\"y_range\":{\"type\":\"object\",\"name\":\"DataRange1d\",\"id\":\"p1362\"},\"x_scale\":{\"type\":\"object\",\"name\":\"CategoricalScale\",\"id\":\"p1370\"},\"y_scale\":{\"type\":\"object\",\"name\":\"LinearScale\",\"id\":\"p1371\"},\"title\":{\"type\":\"object\",\"name\":\"Title\",\"id\":\"p1363\",\"attributes\":{\"text\":\"Distribuci\\u00f3n de Dep\\u00f3sitos y Retiros por Pa\\u00eds (Top 10)\"}},\"renderers\":[{\"type\":\"object\",\"name\":\"GlyphRenderer\",\"id\":\"p1401\",\"attributes\":{\"data_source\":{\"type\":\"object\",\"name\":\"ColumnDataSource\",\"id\":\"p1356\",\"attributes\":{\"selected\":{\"type\":\"object\",\"name\":\"Selection\",\"id\":\"p1357\",\"attributes\":{\"indices\":[],\"line_indices\":[]}},\"selection_policy\":{\"type\":\"object\",\"name\":\"UnionRenderers\",\"id\":\"p1358\"},\"data\":{\"type\":\"map\",\"entries\":[[\"x\",[[\"Somalia\",\"Dep\\u00f3sitos\"],[\"Somalia\",\"Retiros\"],[\"Ethiopia\",\"Dep\\u00f3sitos\"],[\"Ethiopia\",\"Retiros\"],[\"French Guiana\",\"Dep\\u00f3sitos\"],[\"French Guiana\",\"Retiros\"],[\"Belarus\",\"Dep\\u00f3sitos\"],[\"Belarus\",\"Retiros\"],[\"Madagascar\",\"Dep\\u00f3sitos\"],[\"Madagascar\",\"Retiros\"],[\"Hungary\",\"Dep\\u00f3sitos\"],[\"Hungary\",\"Retiros\"],[\"Congo\",\"Dep\\u00f3sitos\"],[\"Congo\",\"Retiros\"],[\"Mali\",\"Dep\\u00f3sitos\"],[\"Mali\",\"Retiros\"],[\"Botswana\",\"Dep\\u00f3sitos\"],[\"Botswana\",\"Retiros\"],[\"Sierra Leone\",\"Dep\\u00f3sitos\"],[\"Sierra Leone\",\"Retiros\"]]],[\"top\",[10544916.69,5614861.07,6331287.16,9391253.89,10484577.56,5024996.28,8486633.57,6911698.72,7843665.57,6566374.850000001,9683106.65,4514114.59,9664776.97,4419347.12,10070154.76,4009437.5900000003,3828052.12,10192739.04,7849358.41,5867039.62]],[\"color\",[\"green\",\"red\",\"green\",\"red\",\"green\",\"red\",\"green\",\"red\",\"green\",\"red\",\"green\",\"red\",\"green\",\"red\",\"green\",\"red\",\"green\",\"red\",\"green\",\"red\"]]]}}},\"view\":{\"type\":\"object\",\"name\":\"CDSView\",\"id\":\"p1402\",\"attributes\":{\"filter\":{\"type\":\"object\",\"name\":\"AllIndices\",\"id\":\"p1403\"}}},\"glyph\":{\"type\":\"object\",\"name\":\"VBar\",\"id\":\"p1398\",\"attributes\":{\"x\":{\"type\":\"field\",\"field\":\"x\"},\"width\":{\"type\":\"value\",\"value\":0.8},\"top\":{\"type\":\"field\",\"field\":\"top\"},\"line_color\":{\"type\":\"value\",\"value\":\"#1f77b4\"},\"fill_color\":{\"type\":\"field\",\"field\":\"color\"}}},\"nonselection_glyph\":{\"type\":\"object\",\"name\":\"VBar\",\"id\":\"p1399\",\"attributes\":{\"x\":{\"type\":\"field\",\"field\":\"x\"},\"width\":{\"type\":\"value\",\"value\":0.8},\"top\":{\"type\":\"field\",\"field\":\"top\"},\"line_color\":{\"type\":\"value\",\"value\":\"#1f77b4\"},\"line_alpha\":{\"type\":\"value\",\"value\":0.1},\"fill_color\":{\"type\":\"field\",\"field\":\"color\"},\"fill_alpha\":{\"type\":\"value\",\"value\":0.1},\"hatch_alpha\":{\"type\":\"value\",\"value\":0.1}}},\"muted_glyph\":{\"type\":\"object\",\"name\":\"VBar\",\"id\":\"p1400\",\"attributes\":{\"x\":{\"type\":\"field\",\"field\":\"x\"},\"width\":{\"type\":\"value\",\"value\":0.8},\"top\":{\"type\":\"field\",\"field\":\"top\"},\"line_color\":{\"type\":\"value\",\"value\":\"#1f77b4\"},\"line_alpha\":{\"type\":\"value\",\"value\":0.2},\"fill_color\":{\"type\":\"field\",\"field\":\"color\"},\"fill_alpha\":{\"type\":\"value\",\"value\":0.2},\"hatch_alpha\":{\"type\":\"value\",\"value\":0.2}}}}}],\"toolbar\":{\"type\":\"object\",\"name\":\"Toolbar\",\"id\":\"p1369\",\"attributes\":{\"tools\":[{\"type\":\"object\",\"name\":\"PanTool\",\"id\":\"p1382\"},{\"type\":\"object\",\"name\":\"WheelZoomTool\",\"id\":\"p1383\",\"attributes\":{\"renderers\":\"auto\"}},{\"type\":\"object\",\"name\":\"BoxZoomTool\",\"id\":\"p1384\",\"attributes\":{\"dimensions\":\"both\",\"overlay\":{\"type\":\"object\",\"name\":\"BoxAnnotation\",\"id\":\"p1385\",\"attributes\":{\"syncable\":false,\"line_color\":\"black\",\"line_alpha\":1.0,\"line_width\":2,\"line_dash\":[4,4],\"fill_color\":\"lightgrey\",\"fill_alpha\":0.5,\"level\":\"overlay\",\"visible\":false,\"left\":{\"type\":\"number\",\"value\":\"nan\"},\"right\":{\"type\":\"number\",\"value\":\"nan\"},\"top\":{\"type\":\"number\",\"value\":\"nan\"},\"bottom\":{\"type\":\"number\",\"value\":\"nan\"},\"left_units\":\"canvas\",\"right_units\":\"canvas\",\"top_units\":\"canvas\",\"bottom_units\":\"canvas\",\"handles\":{\"type\":\"object\",\"name\":\"BoxInteractionHandles\",\"id\":\"p1391\",\"attributes\":{\"all\":{\"type\":\"object\",\"name\":\"AreaVisuals\",\"id\":\"p1390\",\"attributes\":{\"fill_color\":\"white\",\"hover_fill_color\":\"lightgray\"}}}}}}}},{\"type\":\"object\",\"name\":\"SaveTool\",\"id\":\"p1392\"},{\"type\":\"object\",\"name\":\"ResetTool\",\"id\":\"p1393\"},{\"type\":\"object\",\"name\":\"HelpTool\",\"id\":\"p1394\"}]}},\"toolbar_location\":null,\"left\":[{\"type\":\"object\",\"name\":\"LinearAxis\",\"id\":\"p1377\",\"attributes\":{\"ticker\":{\"type\":\"object\",\"name\":\"BasicTicker\",\"id\":\"p1378\",\"attributes\":{\"mantissas\":[1,2,5]}},\"formatter\":{\"type\":\"object\",\"name\":\"BasicTickFormatter\",\"id\":\"p1379\"},\"axis_label\":\"Monto (USD)\",\"major_label_policy\":{\"type\":\"object\",\"name\":\"AllLabels\",\"id\":\"p1380\"}}}],\"below\":[{\"type\":\"object\",\"name\":\"CategoricalAxis\",\"id\":\"p1372\",\"attributes\":{\"ticker\":{\"type\":\"object\",\"name\":\"CategoricalTicker\",\"id\":\"p1373\"},\"formatter\":{\"type\":\"object\",\"name\":\"CategoricalTickFormatter\",\"id\":\"p1374\"},\"axis_label\":\"Pa\\u00eds\",\"major_label_orientation\":1.2,\"major_label_policy\":{\"type\":\"object\",\"name\":\"AllLabels\",\"id\":\"p1375\"}}}],\"center\":[{\"type\":\"object\",\"name\":\"Grid\",\"id\":\"p1376\",\"attributes\":{\"axis\":{\"id\":\"p1372\"}}},{\"type\":\"object\",\"name\":\"Grid\",\"id\":\"p1381\",\"attributes\":{\"dimension\":1,\"axis\":{\"id\":\"p1377\"}}}]}}]}};\n  const render_items = [{\"docid\":\"3b4440ba-4a3b-4f42-b102-71d8d56f0a92\",\"roots\":{\"p1360\":\"b0bf16c3-8336-4fce-88c2-ea744f80b1d3\"},\"root_ids\":[\"p1360\"]}];\n  void root.Bokeh.embed.embed_items_notebook(docs_json, render_items);\n  }\n  if (root.Bokeh !== undefined) {\n    embed_document(root);\n  } else {\n    let attempts = 0;\n    const timer = setInterval(function(root) {\n      if (root.Bokeh !== undefined) {\n        clearInterval(timer);\n        embed_document(root);\n      } else {\n        attempts++;\n        if (attempts > 100) {\n          clearInterval(timer);\n          console.log(\"Bokeh: ERROR: Unable to run BokehJS code because BokehJS library is missing\");\n        }\n      }\n    }, 10, root)\n  }\n})(window);",
      "application/vnd.bokehjs_exec.v0+json": ""
     },
     "metadata": {
      "application/vnd.bokehjs_exec.v0+json": {
       "id": "p1360"
      }
     },
     "output_type": "display_data"
    }
   ],
   "source": [
    "por_pais = merged_df.groupby('Country').agg({\n",
    "    'Deposits': 'sum',\n",
    "    'Withdrawls': 'sum'\n",
    "}).reset_index()\n",
    "\n",
    "por_pais['Total'] = por_pais['Deposits'] + por_pais['Withdrawls']\n",
    "por_pais = por_pais.sort_values(by='Total', ascending=False).head(10)  # Top 10 países\n",
    "\n",
    "x = []\n",
    "top = []\n",
    "colores = []\n",
    "\n",
    "for _, fila in por_pais.iterrows():\n",
    "    pais = fila['Country']\n",
    "    x.append((pais, 'Depósitos'))\n",
    "    top.append(fila['Deposits'])\n",
    "    colores.append('green')\n",
    "    x.append((pais, 'Retiros'))\n",
    "    top.append(fila['Withdrawls'])\n",
    "    colores.append('red')\n",
    "\n",
    "source = ColumnDataSource(data=dict(x=x, top=top, color=colores))\n",
    "\n",
    "p2 = figure(x_range=FactorRange(*x), \n",
    "           title=\"Distribución de Depósitos y Retiros por País (Top 10)\",\n",
    "           x_axis_label='País', y_axis_label='Monto (USD)',\n",
    "           height=400, width=1000, toolbar_location=None)\n",
    "\n",
    "p2.vbar(x='x', top='top', width=0.8, source=source, fill_color='color')\n",
    "p2.xaxis.major_label_orientation = 1.2\n",
    "\n",
    "show(p2)\n"
   ]
  },
  {
   "cell_type": "markdown",
   "id": "59005857",
   "metadata": {},
   "source": [
    "### Evolución del saldo promedio mensual"
   ]
  },
  {
   "cell_type": "code",
   "execution_count": 47,
   "id": "8c2e21c9",
   "metadata": {},
   "outputs": [
    {
     "name": "stderr",
     "output_type": "stream",
     "text": [
      "<>:1: SyntaxWarning: invalid escape sequence '\\$'\n",
      "<>:1: SyntaxWarning: invalid escape sequence '\\$'\n",
      "C:\\Users\\adpar\\AppData\\Local\\Temp\\ipykernel_16896\\3303328325.py:1: SyntaxWarning: invalid escape sequence '\\$'\n",
      "  merged_df['Balance'] = merged_df['Balance'].replace('[\\$,]', '', regex=True).astype(float)\n",
      "BokehDeprecationWarning: 'circle() method with size value' was deprecated in Bokeh 3.4.0 and will be removed, use 'scatter(size=...) instead' instead.\n"
     ]
    },
    {
     "data": {
      "text/html": [
       "\n",
       "  <div id=\"ad699d18-539c-4c7f-9f4d-304f50582b10\" data-root-id=\"p1404\" style=\"display: contents;\"></div>\n"
      ]
     },
     "metadata": {},
     "output_type": "display_data"
    },
    {
     "data": {
      "application/javascript": "(function(root) {\n  function embed_document(root) {\n  const docs_json = {\"29e5abc3-6063-47ec-b17b-d83eebd7277d\":{\"version\":\"3.7.3\",\"title\":\"Bokeh Application\",\"roots\":[{\"type\":\"object\",\"name\":\"Figure\",\"id\":\"p1404\",\"attributes\":{\"width\":900,\"height\":400,\"x_range\":{\"type\":\"object\",\"name\":\"FactorRange\",\"id\":\"p1414\",\"attributes\":{\"factors\":[\"2020-08\",\"2020-09\",\"2020-10\",\"2020-11\",\"2020-12\",\"2021-01\",\"2021-02\",\"2021-03\",\"2021-04\",\"2021-05\",\"2021-06\",\"2021-07\",\"2021-08\",\"2021-09\"]}},\"y_range\":{\"type\":\"object\",\"name\":\"DataRange1d\",\"id\":\"p1406\"},\"x_scale\":{\"type\":\"object\",\"name\":\"CategoricalScale\",\"id\":\"p1415\"},\"y_scale\":{\"type\":\"object\",\"name\":\"LinearScale\",\"id\":\"p1416\"},\"title\":{\"type\":\"object\",\"name\":\"Title\",\"id\":\"p1407\",\"attributes\":{\"text\":\"Saldo Promedio por Mes\"}},\"renderers\":[{\"type\":\"object\",\"name\":\"GlyphRenderer\",\"id\":\"p1446\",\"attributes\":{\"data_source\":{\"type\":\"object\",\"name\":\"ColumnDataSource\",\"id\":\"p1440\",\"attributes\":{\"selected\":{\"type\":\"object\",\"name\":\"Selection\",\"id\":\"p1441\",\"attributes\":{\"indices\":[],\"line_indices\":[]}},\"selection_policy\":{\"type\":\"object\",\"name\":\"UnionRenderers\",\"id\":\"p1442\"},\"data\":{\"type\":\"map\",\"entries\":[[\"x\",{\"type\":\"ndarray\",\"array\":[\"2020-08\",\"2020-09\",\"2020-10\",\"2020-11\",\"2020-12\",\"2021-01\",\"2021-02\",\"2021-03\",\"2021-04\",\"2021-05\",\"2021-06\",\"2021-07\",\"2021-08\",\"2021-09\"],\"shape\":[14],\"dtype\":\"object\",\"order\":\"little\"}],[\"y\",{\"type\":\"ndarray\",\"array\":{\"type\":\"bytes\",\"data\":\"OMlo/qXHF0EtNaJwPbwpQTO0zoGAaSVBk4D8stErG0HtHtFRnp4mQXvUDwmaACBByi+WoP/kIEE5s1G5eu4hQTw5aLkJmSJBUcPfpuqHG0Gem+pAIpofQSX5suO6+SZBHpfh9SM1I0FSPQAUCccYQQ==\"},\"shape\":[14],\"dtype\":\"float64\",\"order\":\"little\"}]]}}},\"view\":{\"type\":\"object\",\"name\":\"CDSView\",\"id\":\"p1447\",\"attributes\":{\"filter\":{\"type\":\"object\",\"name\":\"AllIndices\",\"id\":\"p1448\"}}},\"glyph\":{\"type\":\"object\",\"name\":\"Line\",\"id\":\"p1443\",\"attributes\":{\"x\":{\"type\":\"field\",\"field\":\"x\"},\"y\":{\"type\":\"field\",\"field\":\"y\"},\"line_color\":\"blue\",\"line_width\":2}},\"nonselection_glyph\":{\"type\":\"object\",\"name\":\"Line\",\"id\":\"p1444\",\"attributes\":{\"x\":{\"type\":\"field\",\"field\":\"x\"},\"y\":{\"type\":\"field\",\"field\":\"y\"},\"line_color\":\"blue\",\"line_alpha\":0.1,\"line_width\":2}},\"muted_glyph\":{\"type\":\"object\",\"name\":\"Line\",\"id\":\"p1445\",\"attributes\":{\"x\":{\"type\":\"field\",\"field\":\"x\"},\"y\":{\"type\":\"field\",\"field\":\"y\"},\"line_color\":\"blue\",\"line_alpha\":0.2,\"line_width\":2}}}},{\"type\":\"object\",\"name\":\"GlyphRenderer\",\"id\":\"p1457\",\"attributes\":{\"data_source\":{\"type\":\"object\",\"name\":\"ColumnDataSource\",\"id\":\"p1451\",\"attributes\":{\"selected\":{\"type\":\"object\",\"name\":\"Selection\",\"id\":\"p1452\",\"attributes\":{\"indices\":[],\"line_indices\":[]}},\"selection_policy\":{\"type\":\"object\",\"name\":\"UnionRenderers\",\"id\":\"p1453\"},\"data\":{\"type\":\"map\",\"entries\":[[\"x\",{\"type\":\"ndarray\",\"array\":[\"2020-08\",\"2020-09\",\"2020-10\",\"2020-11\",\"2020-12\",\"2021-01\",\"2021-02\",\"2021-03\",\"2021-04\",\"2021-05\",\"2021-06\",\"2021-07\",\"2021-08\",\"2021-09\"],\"shape\":[14],\"dtype\":\"object\",\"order\":\"little\"}],[\"y\",{\"type\":\"ndarray\",\"array\":{\"type\":\"bytes\",\"data\":\"OMlo/qXHF0EtNaJwPbwpQTO0zoGAaSVBk4D8stErG0HtHtFRnp4mQXvUDwmaACBByi+WoP/kIEE5s1G5eu4hQTw5aLkJmSJBUcPfpuqHG0Gem+pAIpofQSX5suO6+SZBHpfh9SM1I0FSPQAUCccYQQ==\"},\"shape\":[14],\"dtype\":\"float64\",\"order\":\"little\"}]]}}},\"view\":{\"type\":\"object\",\"name\":\"CDSView\",\"id\":\"p1458\",\"attributes\":{\"filter\":{\"type\":\"object\",\"name\":\"AllIndices\",\"id\":\"p1459\"}}},\"glyph\":{\"type\":\"object\",\"name\":\"Scatter\",\"id\":\"p1454\",\"attributes\":{\"x\":{\"type\":\"field\",\"field\":\"x\"},\"y\":{\"type\":\"field\",\"field\":\"y\"},\"size\":{\"type\":\"value\",\"value\":8},\"line_color\":{\"type\":\"value\",\"value\":\"blue\"},\"fill_color\":{\"type\":\"value\",\"value\":\"blue\"},\"hatch_color\":{\"type\":\"value\",\"value\":\"blue\"}}},\"nonselection_glyph\":{\"type\":\"object\",\"name\":\"Scatter\",\"id\":\"p1455\",\"attributes\":{\"x\":{\"type\":\"field\",\"field\":\"x\"},\"y\":{\"type\":\"field\",\"field\":\"y\"},\"size\":{\"type\":\"value\",\"value\":8},\"line_color\":{\"type\":\"value\",\"value\":\"blue\"},\"line_alpha\":{\"type\":\"value\",\"value\":0.1},\"fill_color\":{\"type\":\"value\",\"value\":\"blue\"},\"fill_alpha\":{\"type\":\"value\",\"value\":0.1},\"hatch_color\":{\"type\":\"value\",\"value\":\"blue\"},\"hatch_alpha\":{\"type\":\"value\",\"value\":0.1}}},\"muted_glyph\":{\"type\":\"object\",\"name\":\"Scatter\",\"id\":\"p1456\",\"attributes\":{\"x\":{\"type\":\"field\",\"field\":\"x\"},\"y\":{\"type\":\"field\",\"field\":\"y\"},\"size\":{\"type\":\"value\",\"value\":8},\"line_color\":{\"type\":\"value\",\"value\":\"blue\"},\"line_alpha\":{\"type\":\"value\",\"value\":0.2},\"fill_color\":{\"type\":\"value\",\"value\":\"blue\"},\"fill_alpha\":{\"type\":\"value\",\"value\":0.2},\"hatch_color\":{\"type\":\"value\",\"value\":\"blue\"},\"hatch_alpha\":{\"type\":\"value\",\"value\":0.2}}}}}],\"toolbar\":{\"type\":\"object\",\"name\":\"Toolbar\",\"id\":\"p1413\",\"attributes\":{\"tools\":[{\"type\":\"object\",\"name\":\"PanTool\",\"id\":\"p1427\"},{\"type\":\"object\",\"name\":\"WheelZoomTool\",\"id\":\"p1428\",\"attributes\":{\"renderers\":\"auto\"}},{\"type\":\"object\",\"name\":\"BoxZoomTool\",\"id\":\"p1429\",\"attributes\":{\"dimensions\":\"both\",\"overlay\":{\"type\":\"object\",\"name\":\"BoxAnnotation\",\"id\":\"p1430\",\"attributes\":{\"syncable\":false,\"line_color\":\"black\",\"line_alpha\":1.0,\"line_width\":2,\"line_dash\":[4,4],\"fill_color\":\"lightgrey\",\"fill_alpha\":0.5,\"level\":\"overlay\",\"visible\":false,\"left\":{\"type\":\"number\",\"value\":\"nan\"},\"right\":{\"type\":\"number\",\"value\":\"nan\"},\"top\":{\"type\":\"number\",\"value\":\"nan\"},\"bottom\":{\"type\":\"number\",\"value\":\"nan\"},\"left_units\":\"canvas\",\"right_units\":\"canvas\",\"top_units\":\"canvas\",\"bottom_units\":\"canvas\",\"handles\":{\"type\":\"object\",\"name\":\"BoxInteractionHandles\",\"id\":\"p1436\",\"attributes\":{\"all\":{\"type\":\"object\",\"name\":\"AreaVisuals\",\"id\":\"p1435\",\"attributes\":{\"fill_color\":\"white\",\"hover_fill_color\":\"lightgray\"}}}}}}}},{\"type\":\"object\",\"name\":\"SaveTool\",\"id\":\"p1437\"},{\"type\":\"object\",\"name\":\"ResetTool\",\"id\":\"p1438\"},{\"type\":\"object\",\"name\":\"HelpTool\",\"id\":\"p1439\"}]}},\"toolbar_location\":null,\"left\":[{\"type\":\"object\",\"name\":\"LinearAxis\",\"id\":\"p1422\",\"attributes\":{\"ticker\":{\"type\":\"object\",\"name\":\"BasicTicker\",\"id\":\"p1423\",\"attributes\":{\"mantissas\":[1,2,5]}},\"formatter\":{\"type\":\"object\",\"name\":\"BasicTickFormatter\",\"id\":\"p1424\"},\"axis_label\":\"Saldo Promedio (USD)\",\"major_label_policy\":{\"type\":\"object\",\"name\":\"AllLabels\",\"id\":\"p1425\"}}}],\"below\":[{\"type\":\"object\",\"name\":\"CategoricalAxis\",\"id\":\"p1417\",\"attributes\":{\"ticker\":{\"type\":\"object\",\"name\":\"CategoricalTicker\",\"id\":\"p1418\"},\"formatter\":{\"type\":\"object\",\"name\":\"CategoricalTickFormatter\",\"id\":\"p1419\"},\"axis_label\":\"Mes\",\"major_label_orientation\":1.2,\"major_label_policy\":{\"type\":\"object\",\"name\":\"AllLabels\",\"id\":\"p1420\"}}}],\"center\":[{\"type\":\"object\",\"name\":\"Grid\",\"id\":\"p1421\",\"attributes\":{\"axis\":{\"id\":\"p1417\"}}},{\"type\":\"object\",\"name\":\"Grid\",\"id\":\"p1426\",\"attributes\":{\"dimension\":1,\"axis\":{\"id\":\"p1422\"}}},{\"type\":\"object\",\"name\":\"Legend\",\"id\":\"p1449\",\"attributes\":{\"location\":\"top_left\",\"items\":[{\"type\":\"object\",\"name\":\"LegendItem\",\"id\":\"p1450\",\"attributes\":{\"label\":{\"type\":\"value\",\"value\":\"Saldo Promedio\"},\"renderers\":[{\"id\":\"p1446\"}]}}]}}]}}]}};\n  const render_items = [{\"docid\":\"29e5abc3-6063-47ec-b17b-d83eebd7277d\",\"roots\":{\"p1404\":\"ad699d18-539c-4c7f-9f4d-304f50582b10\"},\"root_ids\":[\"p1404\"]}];\n  void root.Bokeh.embed.embed_items_notebook(docs_json, render_items);\n  }\n  if (root.Bokeh !== undefined) {\n    embed_document(root);\n  } else {\n    let attempts = 0;\n    const timer = setInterval(function(root) {\n      if (root.Bokeh !== undefined) {\n        clearInterval(timer);\n        embed_document(root);\n      } else {\n        attempts++;\n        if (attempts > 100) {\n          clearInterval(timer);\n          console.log(\"Bokeh: ERROR: Unable to run BokehJS code because BokehJS library is missing\");\n        }\n      }\n    }, 10, root)\n  }\n})(window);",
      "application/vnd.bokehjs_exec.v0+json": ""
     },
     "metadata": {
      "application/vnd.bokehjs_exec.v0+json": {
       "id": "p1404"
      }
     },
     "output_type": "display_data"
    }
   ],
   "source": [
    "merged_df['Balance'] = merged_df['Balance'].replace('[\\$,]', '', regex=True).astype(float)\n",
    "\n",
    "saldo_mensual = merged_df.groupby('Mes')['Balance'].mean().reset_index()\n",
    "\n",
    "p3 = figure(x_range=saldo_mensual['Mes'], \n",
    "            title=\"Saldo Promedio por Mes\",\n",
    "            x_axis_label='Mes', y_axis_label='Saldo Promedio (USD)',\n",
    "            height=400, width=900, toolbar_location=None)\n",
    "\n",
    "p3.line(x=saldo_mensual['Mes'], y=saldo_mensual['Balance'], line_width=2, color='blue', legend_label='Saldo Promedio')\n",
    "p3.circle(x=saldo_mensual['Mes'], y=saldo_mensual['Balance'], size=8, color='blue')\n",
    "\n",
    "p3.xaxis.major_label_orientation = 1.2\n",
    "p3.legend.location = \"top_left\"\n",
    "\n",
    "show(p3)\n"
   ]
  },
  {
   "cell_type": "markdown",
   "id": "350c3cf9",
   "metadata": {},
   "source": [
    "### Cantidad de transacciones por tipo (Depósitos vs Retiros)"
   ]
  },
  {
   "cell_type": "code",
   "execution_count": 48,
   "id": "09d22fc8",
   "metadata": {},
   "outputs": [
    {
     "data": {
      "text/html": [
       "\n",
       "  <div id=\"b889df49-3222-43d5-ae72-0a40704e2237\" data-root-id=\"p1465\" style=\"display: contents;\"></div>\n"
      ]
     },
     "metadata": {},
     "output_type": "display_data"
    },
    {
     "data": {
      "application/javascript": "(function(root) {\n  function embed_document(root) {\n  const docs_json = {\"0f54fdb6-e059-46de-b3a7-e88a1c515f28\":{\"version\":\"3.7.3\",\"title\":\"Bokeh Application\",\"roots\":[{\"type\":\"object\",\"name\":\"Figure\",\"id\":\"p1465\",\"attributes\":{\"height\":400,\"x_range\":{\"type\":\"object\",\"name\":\"FactorRange\",\"id\":\"p1475\",\"attributes\":{\"factors\":[\"Dep\\u00f3sitos\",\"Retiros\"]}},\"y_range\":{\"type\":\"object\",\"name\":\"DataRange1d\",\"id\":\"p1467\"},\"x_scale\":{\"type\":\"object\",\"name\":\"CategoricalScale\",\"id\":\"p1476\"},\"y_scale\":{\"type\":\"object\",\"name\":\"LinearScale\",\"id\":\"p1477\"},\"title\":{\"type\":\"object\",\"name\":\"Title\",\"id\":\"p1468\",\"attributes\":{\"text\":\"N\\u00famero de Transacciones por Tipo\"}},\"renderers\":[{\"type\":\"object\",\"name\":\"GlyphRenderer\",\"id\":\"p1507\",\"attributes\":{\"data_source\":{\"type\":\"object\",\"name\":\"ColumnDataSource\",\"id\":\"p1462\",\"attributes\":{\"selected\":{\"type\":\"object\",\"name\":\"Selection\",\"id\":\"p1463\",\"attributes\":{\"indices\":[],\"line_indices\":[]}},\"selection_policy\":{\"type\":\"object\",\"name\":\"UnionRenderers\",\"id\":\"p1464\"},\"data\":{\"type\":\"map\",\"entries\":[[\"tipo\",[\"Dep\\u00f3sitos\",\"Retiros\"]],[\"cantidad\",[5210,4766]],[\"color\",[\"green\",\"red\"]]]}}},\"view\":{\"type\":\"object\",\"name\":\"CDSView\",\"id\":\"p1508\",\"attributes\":{\"filter\":{\"type\":\"object\",\"name\":\"AllIndices\",\"id\":\"p1509\"}}},\"glyph\":{\"type\":\"object\",\"name\":\"VBar\",\"id\":\"p1504\",\"attributes\":{\"x\":{\"type\":\"field\",\"field\":\"tipo\"},\"width\":{\"type\":\"value\",\"value\":0.5},\"top\":{\"type\":\"field\",\"field\":\"cantidad\"},\"line_color\":{\"type\":\"field\",\"field\":\"color\"},\"fill_color\":{\"type\":\"field\",\"field\":\"color\"},\"hatch_color\":{\"type\":\"field\",\"field\":\"color\"}}},\"nonselection_glyph\":{\"type\":\"object\",\"name\":\"VBar\",\"id\":\"p1505\",\"attributes\":{\"x\":{\"type\":\"field\",\"field\":\"tipo\"},\"width\":{\"type\":\"value\",\"value\":0.5},\"top\":{\"type\":\"field\",\"field\":\"cantidad\"},\"line_color\":{\"type\":\"field\",\"field\":\"color\"},\"line_alpha\":{\"type\":\"value\",\"value\":0.1},\"fill_color\":{\"type\":\"field\",\"field\":\"color\"},\"fill_alpha\":{\"type\":\"value\",\"value\":0.1},\"hatch_color\":{\"type\":\"field\",\"field\":\"color\"},\"hatch_alpha\":{\"type\":\"value\",\"value\":0.1}}},\"muted_glyph\":{\"type\":\"object\",\"name\":\"VBar\",\"id\":\"p1506\",\"attributes\":{\"x\":{\"type\":\"field\",\"field\":\"tipo\"},\"width\":{\"type\":\"value\",\"value\":0.5},\"top\":{\"type\":\"field\",\"field\":\"cantidad\"},\"line_color\":{\"type\":\"field\",\"field\":\"color\"},\"line_alpha\":{\"type\":\"value\",\"value\":0.2},\"fill_color\":{\"type\":\"field\",\"field\":\"color\"},\"fill_alpha\":{\"type\":\"value\",\"value\":0.2},\"hatch_color\":{\"type\":\"field\",\"field\":\"color\"},\"hatch_alpha\":{\"type\":\"value\",\"value\":0.2}}}}}],\"toolbar\":{\"type\":\"object\",\"name\":\"Toolbar\",\"id\":\"p1474\",\"attributes\":{\"tools\":[{\"type\":\"object\",\"name\":\"PanTool\",\"id\":\"p1488\"},{\"type\":\"object\",\"name\":\"WheelZoomTool\",\"id\":\"p1489\",\"attributes\":{\"renderers\":\"auto\"}},{\"type\":\"object\",\"name\":\"BoxZoomTool\",\"id\":\"p1490\",\"attributes\":{\"dimensions\":\"both\",\"overlay\":{\"type\":\"object\",\"name\":\"BoxAnnotation\",\"id\":\"p1491\",\"attributes\":{\"syncable\":false,\"line_color\":\"black\",\"line_alpha\":1.0,\"line_width\":2,\"line_dash\":[4,4],\"fill_color\":\"lightgrey\",\"fill_alpha\":0.5,\"level\":\"overlay\",\"visible\":false,\"left\":{\"type\":\"number\",\"value\":\"nan\"},\"right\":{\"type\":\"number\",\"value\":\"nan\"},\"top\":{\"type\":\"number\",\"value\":\"nan\"},\"bottom\":{\"type\":\"number\",\"value\":\"nan\"},\"left_units\":\"canvas\",\"right_units\":\"canvas\",\"top_units\":\"canvas\",\"bottom_units\":\"canvas\",\"handles\":{\"type\":\"object\",\"name\":\"BoxInteractionHandles\",\"id\":\"p1497\",\"attributes\":{\"all\":{\"type\":\"object\",\"name\":\"AreaVisuals\",\"id\":\"p1496\",\"attributes\":{\"fill_color\":\"white\",\"hover_fill_color\":\"lightgray\"}}}}}}}},{\"type\":\"object\",\"name\":\"SaveTool\",\"id\":\"p1498\"},{\"type\":\"object\",\"name\":\"ResetTool\",\"id\":\"p1499\"},{\"type\":\"object\",\"name\":\"HelpTool\",\"id\":\"p1500\"}]}},\"toolbar_location\":null,\"left\":[{\"type\":\"object\",\"name\":\"LinearAxis\",\"id\":\"p1483\",\"attributes\":{\"ticker\":{\"type\":\"object\",\"name\":\"BasicTicker\",\"id\":\"p1484\",\"attributes\":{\"mantissas\":[1,2,5]}},\"formatter\":{\"type\":\"object\",\"name\":\"BasicTickFormatter\",\"id\":\"p1485\"},\"axis_label\":\"Cantidad de transacciones\",\"major_label_policy\":{\"type\":\"object\",\"name\":\"AllLabels\",\"id\":\"p1486\"}}}],\"below\":[{\"type\":\"object\",\"name\":\"CategoricalAxis\",\"id\":\"p1478\",\"attributes\":{\"ticker\":{\"type\":\"object\",\"name\":\"CategoricalTicker\",\"id\":\"p1479\"},\"formatter\":{\"type\":\"object\",\"name\":\"CategoricalTickFormatter\",\"id\":\"p1480\"},\"major_label_policy\":{\"type\":\"object\",\"name\":\"AllLabels\",\"id\":\"p1481\"}}}],\"center\":[{\"type\":\"object\",\"name\":\"Grid\",\"id\":\"p1482\",\"attributes\":{\"axis\":{\"id\":\"p1478\"}}},{\"type\":\"object\",\"name\":\"Grid\",\"id\":\"p1487\",\"attributes\":{\"dimension\":1,\"axis\":{\"id\":\"p1483\"}}}]}}]}};\n  const render_items = [{\"docid\":\"0f54fdb6-e059-46de-b3a7-e88a1c515f28\",\"roots\":{\"p1465\":\"b889df49-3222-43d5-ae72-0a40704e2237\"},\"root_ids\":[\"p1465\"]}];\n  void root.Bokeh.embed.embed_items_notebook(docs_json, render_items);\n  }\n  if (root.Bokeh !== undefined) {\n    embed_document(root);\n  } else {\n    let attempts = 0;\n    const timer = setInterval(function(root) {\n      if (root.Bokeh !== undefined) {\n        clearInterval(timer);\n        embed_document(root);\n      } else {\n        attempts++;\n        if (attempts > 100) {\n          clearInterval(timer);\n          console.log(\"Bokeh: ERROR: Unable to run BokehJS code because BokehJS library is missing\");\n        }\n      }\n    }, 10, root)\n  }\n})(window);",
      "application/vnd.bokehjs_exec.v0+json": ""
     },
     "metadata": {
      "application/vnd.bokehjs_exec.v0+json": {
       "id": "p1465"
      }
     },
     "output_type": "display_data"
    }
   ],
   "source": [
    "# Contar cuántas veces se hizo un depósito (> 0) y un retiro (> 0)\n",
    "num_depositos = (merged_df['Deposits'] > 0).sum()\n",
    "num_retiros = (merged_df['Withdrawls'] > 0).sum()\n",
    "\n",
    "source = ColumnDataSource(data=dict(\n",
    "    tipo=['Depósitos', 'Retiros'],\n",
    "    cantidad=[num_depositos, num_retiros],\n",
    "    color=['green', 'red']\n",
    "))\n",
    "\n",
    "p4 = figure(x_range=['Depósitos', 'Retiros'], \n",
    "            title=\"Número de Transacciones por Tipo\",\n",
    "            height=400, width=600, toolbar_location=None)\n",
    "\n",
    "p4.vbar(x='tipo', top='cantidad', width=0.5, color='color', source=source)\n",
    "p4.yaxis.axis_label = \"Cantidad de transacciones\"\n",
    "\n",
    "show(p4)\n"
   ]
  },
  {
   "cell_type": "markdown",
   "id": "43ade632",
   "metadata": {},
   "source": [
    "### Top 10 clientes con mayor saldo final"
   ]
  },
  {
   "cell_type": "code",
   "execution_count": 49,
   "id": "b475c578",
   "metadata": {},
   "outputs": [
    {
     "data": {
      "text/html": [
       "\n",
       "  <div id=\"ef874502-d737-4af7-849c-15f3a910784e\" data-root-id=\"p1513\" style=\"display: contents;\"></div>\n"
      ]
     },
     "metadata": {},
     "output_type": "display_data"
    },
    {
     "data": {
      "application/javascript": "(function(root) {\n  function embed_document(root) {\n  const docs_json = {\"0e76aaa9-b4eb-4afa-a748-688117067153\":{\"version\":\"3.7.3\",\"title\":\"Bokeh Application\",\"roots\":[{\"type\":\"object\",\"name\":\"Figure\",\"id\":\"p1513\",\"attributes\":{\"width\":900,\"height\":400,\"x_range\":{\"type\":\"object\",\"name\":\"FactorRange\",\"id\":\"p1523\",\"attributes\":{\"factors\":[\"Tony Thompson\",\"Jasmin Townsend\",\"Jasmin Frank\",\"Crystal Mcgee\",\"Latoya Floyd\",\"Curtis Lucero\",\"Allen Castaneda\",\"Stefanie Singleton\",\"Felicia Cherry\",\"Eduardo Pollard\"]}},\"y_range\":{\"type\":\"object\",\"name\":\"DataRange1d\",\"id\":\"p1515\"},\"x_scale\":{\"type\":\"object\",\"name\":\"CategoricalScale\",\"id\":\"p1524\"},\"y_scale\":{\"type\":\"object\",\"name\":\"LinearScale\",\"id\":\"p1525\"},\"title\":{\"type\":\"object\",\"name\":\"Title\",\"id\":\"p1516\",\"attributes\":{\"text\":\"Top 10 Clientes con Mayor Saldo Final\"}},\"renderers\":[{\"type\":\"object\",\"name\":\"GlyphRenderer\",\"id\":\"p1555\",\"attributes\":{\"data_source\":{\"type\":\"object\",\"name\":\"ColumnDataSource\",\"id\":\"p1510\",\"attributes\":{\"selected\":{\"type\":\"object\",\"name\":\"Selection\",\"id\":\"p1511\",\"attributes\":{\"indices\":[],\"line_indices\":[]}},\"selection_policy\":{\"type\":\"object\",\"name\":\"UnionRenderers\",\"id\":\"p1512\"},\"data\":{\"type\":\"map\",\"entries\":[[\"nombre\",{\"type\":\"ndarray\",\"array\":[\"Tony Thompson\",\"Jasmin Townsend\",\"Jasmin Frank\",\"Crystal Mcgee\",\"Latoya Floyd\",\"Curtis Lucero\",\"Allen Castaneda\",\"Stefanie Singleton\",\"Felicia Cherry\",\"Eduardo Pollard\"],\"shape\":[10],\"dtype\":\"object\",\"order\":\"little\"}],[\"saldo\",{\"type\":\"ndarray\",\"array\":{\"type\":\"bytes\",\"data\":\"cT0KRzRwUkFmZmaGVkRSQexRuG6K2lFBPQrX8wIzUUHXo3CNvgJRQeF6FM7+7lBBCtejsLxjUEHXo3AN4UFQQT0K19PfQVBBCtejsL48UEE=\"},\"shape\":[10],\"dtype\":\"float64\",\"order\":\"little\"}]]}}},\"view\":{\"type\":\"object\",\"name\":\"CDSView\",\"id\":\"p1556\",\"attributes\":{\"filter\":{\"type\":\"object\",\"name\":\"AllIndices\",\"id\":\"p1557\"}}},\"glyph\":{\"type\":\"object\",\"name\":\"VBar\",\"id\":\"p1552\",\"attributes\":{\"x\":{\"type\":\"field\",\"field\":\"nombre\"},\"width\":{\"type\":\"value\",\"value\":0.6},\"top\":{\"type\":\"field\",\"field\":\"saldo\"},\"line_color\":{\"type\":\"value\",\"value\":\"navy\"},\"fill_color\":{\"type\":\"value\",\"value\":\"navy\"},\"hatch_color\":{\"type\":\"value\",\"value\":\"navy\"}}},\"nonselection_glyph\":{\"type\":\"object\",\"name\":\"VBar\",\"id\":\"p1553\",\"attributes\":{\"x\":{\"type\":\"field\",\"field\":\"nombre\"},\"width\":{\"type\":\"value\",\"value\":0.6},\"top\":{\"type\":\"field\",\"field\":\"saldo\"},\"line_color\":{\"type\":\"value\",\"value\":\"navy\"},\"line_alpha\":{\"type\":\"value\",\"value\":0.1},\"fill_color\":{\"type\":\"value\",\"value\":\"navy\"},\"fill_alpha\":{\"type\":\"value\",\"value\":0.1},\"hatch_color\":{\"type\":\"value\",\"value\":\"navy\"},\"hatch_alpha\":{\"type\":\"value\",\"value\":0.1}}},\"muted_glyph\":{\"type\":\"object\",\"name\":\"VBar\",\"id\":\"p1554\",\"attributes\":{\"x\":{\"type\":\"field\",\"field\":\"nombre\"},\"width\":{\"type\":\"value\",\"value\":0.6},\"top\":{\"type\":\"field\",\"field\":\"saldo\"},\"line_color\":{\"type\":\"value\",\"value\":\"navy\"},\"line_alpha\":{\"type\":\"value\",\"value\":0.2},\"fill_color\":{\"type\":\"value\",\"value\":\"navy\"},\"fill_alpha\":{\"type\":\"value\",\"value\":0.2},\"hatch_color\":{\"type\":\"value\",\"value\":\"navy\"},\"hatch_alpha\":{\"type\":\"value\",\"value\":0.2}}}}}],\"toolbar\":{\"type\":\"object\",\"name\":\"Toolbar\",\"id\":\"p1522\",\"attributes\":{\"tools\":[{\"type\":\"object\",\"name\":\"PanTool\",\"id\":\"p1536\"},{\"type\":\"object\",\"name\":\"WheelZoomTool\",\"id\":\"p1537\",\"attributes\":{\"renderers\":\"auto\"}},{\"type\":\"object\",\"name\":\"BoxZoomTool\",\"id\":\"p1538\",\"attributes\":{\"dimensions\":\"both\",\"overlay\":{\"type\":\"object\",\"name\":\"BoxAnnotation\",\"id\":\"p1539\",\"attributes\":{\"syncable\":false,\"line_color\":\"black\",\"line_alpha\":1.0,\"line_width\":2,\"line_dash\":[4,4],\"fill_color\":\"lightgrey\",\"fill_alpha\":0.5,\"level\":\"overlay\",\"visible\":false,\"left\":{\"type\":\"number\",\"value\":\"nan\"},\"right\":{\"type\":\"number\",\"value\":\"nan\"},\"top\":{\"type\":\"number\",\"value\":\"nan\"},\"bottom\":{\"type\":\"number\",\"value\":\"nan\"},\"left_units\":\"canvas\",\"right_units\":\"canvas\",\"top_units\":\"canvas\",\"bottom_units\":\"canvas\",\"handles\":{\"type\":\"object\",\"name\":\"BoxInteractionHandles\",\"id\":\"p1545\",\"attributes\":{\"all\":{\"type\":\"object\",\"name\":\"AreaVisuals\",\"id\":\"p1544\",\"attributes\":{\"fill_color\":\"white\",\"hover_fill_color\":\"lightgray\"}}}}}}}},{\"type\":\"object\",\"name\":\"SaveTool\",\"id\":\"p1546\"},{\"type\":\"object\",\"name\":\"ResetTool\",\"id\":\"p1547\"},{\"type\":\"object\",\"name\":\"HelpTool\",\"id\":\"p1548\"}]}},\"toolbar_location\":null,\"left\":[{\"type\":\"object\",\"name\":\"LinearAxis\",\"id\":\"p1531\",\"attributes\":{\"ticker\":{\"type\":\"object\",\"name\":\"BasicTicker\",\"id\":\"p1532\",\"attributes\":{\"mantissas\":[1,2,5]}},\"formatter\":{\"type\":\"object\",\"name\":\"BasicTickFormatter\",\"id\":\"p1533\"},\"axis_label\":\"Saldo Final (USD)\",\"major_label_policy\":{\"type\":\"object\",\"name\":\"AllLabels\",\"id\":\"p1534\"}}}],\"below\":[{\"type\":\"object\",\"name\":\"CategoricalAxis\",\"id\":\"p1526\",\"attributes\":{\"ticker\":{\"type\":\"object\",\"name\":\"CategoricalTicker\",\"id\":\"p1527\"},\"formatter\":{\"type\":\"object\",\"name\":\"CategoricalTickFormatter\",\"id\":\"p1528\"},\"major_label_orientation\":1.2,\"major_label_policy\":{\"type\":\"object\",\"name\":\"AllLabels\",\"id\":\"p1529\"}}}],\"center\":[{\"type\":\"object\",\"name\":\"Grid\",\"id\":\"p1530\",\"attributes\":{\"axis\":{\"id\":\"p1526\"}}},{\"type\":\"object\",\"name\":\"Grid\",\"id\":\"p1535\",\"attributes\":{\"dimension\":1,\"axis\":{\"id\":\"p1531\"}}}]}}]}};\n  const render_items = [{\"docid\":\"0e76aaa9-b4eb-4afa-a748-688117067153\",\"roots\":{\"p1513\":\"ef874502-d737-4af7-849c-15f3a910784e\"},\"root_ids\":[\"p1513\"]}];\n  void root.Bokeh.embed.embed_items_notebook(docs_json, render_items);\n  }\n  if (root.Bokeh !== undefined) {\n    embed_document(root);\n  } else {\n    let attempts = 0;\n    const timer = setInterval(function(root) {\n      if (root.Bokeh !== undefined) {\n        clearInterval(timer);\n        embed_document(root);\n      } else {\n        attempts++;\n        if (attempts > 100) {\n          clearInterval(timer);\n          console.log(\"Bokeh: ERROR: Unable to run BokehJS code because BokehJS library is missing\");\n        }\n      }\n    }, 10, root)\n  }\n})(window);",
      "application/vnd.bokehjs_exec.v0+json": ""
     },
     "metadata": {
      "application/vnd.bokehjs_exec.v0+json": {
       "id": "p1513"
      }
     },
     "output_type": "display_data"
    }
   ],
   "source": [
    "clientes_saldo = merged_df.sort_values('Date').groupby('Customer Id').last().reset_index()\n",
    "\n",
    "top_clientes = clientes_saldo.nlargest(10, 'Balance')[['Customer Id', 'First Name', 'Last Name', 'Balance']]\n",
    "\n",
    "top_clientes['Nombre'] = top_clientes['First Name'] + ' ' + top_clientes['Last Name']\n",
    "\n",
    "source = ColumnDataSource(data=dict(\n",
    "    nombre=top_clientes['Nombre'],\n",
    "    saldo=top_clientes['Balance']\n",
    "))\n",
    "\n",
    "p5 = figure(x_range=top_clientes['Nombre'], \n",
    "            title=\"Top 10 Clientes con Mayor Saldo Final\",\n",
    "            height=400, width=900, toolbar_location=None)\n",
    "\n",
    "p5.vbar(x='nombre', top='saldo', width=0.6, source=source, color='navy')\n",
    "p5.xaxis.major_label_orientation = 1.2\n",
    "p5.yaxis.axis_label = 'Saldo Final (USD)'\n",
    "\n",
    "show(p5)\n"
   ]
  }
 ],
 "metadata": {
  "kernelspec": {
   "display_name": "Python 3",
   "language": "python",
   "name": "python3"
  },
  "language_info": {
   "codemirror_mode": {
    "name": "ipython",
    "version": 3
   },
   "file_extension": ".py",
   "mimetype": "text/x-python",
   "name": "python",
   "nbconvert_exporter": "python",
   "pygments_lexer": "ipython3",
   "version": "3.13.3"
  }
 },
 "nbformat": 4,
 "nbformat_minor": 5
}
