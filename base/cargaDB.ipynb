{
 "cells": [
  {
   "cell_type": "code",
   "execution_count": 2,
   "id": "59fa94da",
   "metadata": {},
   "outputs": [
    {
     "data": {
      "text/html": [
       "<div>\n",
       "<style scoped>\n",
       "    .dataframe tbody tr th:only-of-type {\n",
       "        vertical-align: middle;\n",
       "    }\n",
       "\n",
       "    .dataframe tbody tr th {\n",
       "        vertical-align: top;\n",
       "    }\n",
       "\n",
       "    .dataframe thead th {\n",
       "        text-align: right;\n",
       "    }\n",
       "</style>\n",
       "<table border=\"1\" class=\"dataframe\">\n",
       "  <thead>\n",
       "    <tr style=\"text-align: right;\">\n",
       "      <th></th>\n",
       "      <th>Date</th>\n",
       "      <th>Description</th>\n",
       "      <th>Deposits</th>\n",
       "      <th>Withdrawls</th>\n",
       "      <th>Balance</th>\n",
       "    </tr>\n",
       "  </thead>\n",
       "  <tbody>\n",
       "    <tr>\n",
       "      <th>0</th>\n",
       "      <td>20-Aug-2020</td>\n",
       "      <td>Cash</td>\n",
       "      <td>97,540.00</td>\n",
       "      <td>00.00</td>\n",
       "      <td>170,542.01</td>\n",
       "    </tr>\n",
       "    <tr>\n",
       "      <th>1</th>\n",
       "      <td>20-Aug-2020</td>\n",
       "      <td>Commission</td>\n",
       "      <td>00.00</td>\n",
       "      <td>34,108.40</td>\n",
       "      <td>136,433.61</td>\n",
       "    </tr>\n",
       "    <tr>\n",
       "      <th>2</th>\n",
       "      <td>20-Aug-2020</td>\n",
       "      <td>ATM</td>\n",
       "      <td>41.00</td>\n",
       "      <td>00.00</td>\n",
       "      <td>136,474.61</td>\n",
       "    </tr>\n",
       "    <tr>\n",
       "      <th>3</th>\n",
       "      <td>20-Aug-2020</td>\n",
       "      <td>Interest</td>\n",
       "      <td>50.00</td>\n",
       "      <td>00.00</td>\n",
       "      <td>136,524.61</td>\n",
       "    </tr>\n",
       "    <tr>\n",
       "      <th>4</th>\n",
       "      <td>20-Aug-2020</td>\n",
       "      <td>Commission</td>\n",
       "      <td>00.00</td>\n",
       "      <td>34,131.15</td>\n",
       "      <td>102,393.46</td>\n",
       "    </tr>\n",
       "  </tbody>\n",
       "</table>\n",
       "</div>"
      ],
      "text/plain": [
       "          Date Description   Deposits Withdrawls     Balance\n",
       "0  20-Aug-2020        Cash  97,540.00      00.00  170,542.01\n",
       "1  20-Aug-2020  Commission      00.00  34,108.40  136,433.61\n",
       "2  20-Aug-2020         ATM      41.00      00.00  136,474.61\n",
       "3  20-Aug-2020    Interest      50.00      00.00  136,524.61\n",
       "4  20-Aug-2020  Commission      00.00  34,131.15  102,393.46"
      ]
     },
     "execution_count": 2,
     "metadata": {},
     "output_type": "execute_result"
    }
   ],
   "source": [
    "import sqlite3\n",
    "import pandas as pd\n",
    "bt_df = pd.read_csv(\"10000 BT Records.csv\")\n",
    "\n",
    "conn = sqlite3.connect(\"bank.db\")\n",
    "\n",
    "bt_df.to_sql(\"bt_records\", conn, if_exists=\"replace\", index=False)\n",
    "\n",
    "# Verificar si se cargó correctamente\n",
    "pd.read_sql(\"SELECT * FROM bt_records LIMIT 5\", conn)\n"
   ]
  },
  {
   "cell_type": "code",
   "execution_count": null,
   "id": "36c0f1d0",
   "metadata": {},
   "outputs": [],
   "source": [
    "import numpy as np\n",
    "\n",
    "# Asignar aleatoriamente Customer Ids desde el dataset de clientes\n",
    "bt_df['Customer Id'] = np.random.choice(customers_df['Customer Id'], size=len(bt_df))\n",
    "\n",
    "# Volver a guardar en SQLite con la columna nueva\n",
    "bt_df.to_sql(\"bt_records\", conn, if_exists=\"replace\", index=False)\n"
   ]
  }
 ],
 "metadata": {
  "kernelspec": {
   "display_name": "Python 3",
   "language": "python",
   "name": "python3"
  },
  "language_info": {
   "codemirror_mode": {
    "name": "ipython",
    "version": 3
   },
   "file_extension": ".py",
   "mimetype": "text/x-python",
   "name": "python",
   "nbconvert_exporter": "python",
   "pygments_lexer": "ipython3",
   "version": "3.13.3"
  }
 },
 "nbformat": 4,
 "nbformat_minor": 5
}
